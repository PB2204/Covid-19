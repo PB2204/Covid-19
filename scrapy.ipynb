{
 "cells": [
  {
   "cell_type": "code",
   "execution_count": 1,
   "metadata": {},
   "outputs": [],
   "source": [
    "import requests\n",
    "import pandas as pd"
   ]
  },
  {
   "cell_type": "code",
   "execution_count": 2,
   "metadata": {},
   "outputs": [],
   "source": [
    "# URL for the COVID-19 data in India\n",
    "url = \"https://api.covid19india.org/csv/latest/state_wise.csv\""
   ]
  },
  {
   "cell_type": "code",
   "execution_count": 3,
   "metadata": {},
   "outputs": [],
   "source": [
    "# Send a GET request to the URL\n",
    "response = requests.get(url)"
   ]
  },
  {
   "cell_type": "code",
   "execution_count": 4,
   "metadata": {},
   "outputs": [],
   "source": [
    "# Read the response as text\n",
    "data = response.text"
   ]
  },
  {
   "cell_type": "code",
   "execution_count": 5,
   "metadata": {},
   "outputs": [],
   "source": [
    "# Write the response to a CSV file\n",
    "with open(\"covid_data.csv\", \"w\") as file:\n",
    "    file.write(data)\n"
   ]
  },
  {
   "cell_type": "code",
   "execution_count": 6,
   "metadata": {},
   "outputs": [],
   "source": [
    "# Read the CSV file using pandas\n",
    "df = pd.read_csv(\"covid_data.csv\")"
   ]
  },
  {
   "cell_type": "code",
   "execution_count": 7,
   "metadata": {},
   "outputs": [
    {
     "name": "stdout",
     "output_type": "stream",
     "text": [
      "                                       State  Confirmed  Deaths  Recovered  \\\n",
      "0                                      Total   34285612  458470   33661339   \n",
      "1                Andaman and Nicobar Islands       7651     129       7518   \n",
      "2                             Andhra Pradesh    2066450   14373    2047722   \n",
      "3                          Arunachal Pradesh      55155     280      54774   \n",
      "4                                      Assam     610645    5997     600974   \n",
      "5                                      Bihar     726098    9661     716390   \n",
      "6                                 Chandigarh      65351     820      64495   \n",
      "7                               Chhattisgarh    1006052   13577     992159   \n",
      "8   Dadra and Nagar Haveli and Daman and Diu      10681       4      10644   \n",
      "9                                      Delhi    1439870   25091    1414431   \n",
      "10                                       Goa     178108    3364     174392   \n",
      "11                                   Gujarat     826577   10089     816283   \n",
      "12                                   Haryana     771252   10049     761068   \n",
      "13                          Himachal Pradesh     224106    3738     218410   \n",
      "14                         Jammu and Kashmir     332249    4432     326915   \n",
      "15                                 Jharkhand     348764    5138     343518   \n",
      "16                                 Karnataka    2988333   38082    2941578   \n",
      "17                                    Kerala    4968657   31681    4857181   \n",
      "18                                    Ladakh      20962     208      20687   \n",
      "19                               Lakshadweep      10365      51      10270   \n",
      "20                            Madhya Pradesh     792854   10524     782215   \n",
      "21                               Maharashtra    6611078  140216    6450585   \n",
      "22                                   Manipur     123731    1921     121102   \n",
      "23                                 Meghalaya      83627    1450      81746   \n",
      "24                                   Mizoram     121359     432     114612   \n",
      "25                                  Nagaland      31842     685      29904   \n",
      "26                                    Odisha    1041457    8386    1029147   \n",
      "27                                Puducherry     128013    1857     125726   \n",
      "28                                    Punjab     602401   16559     585591   \n",
      "29                                 Rajasthan     954429    8954     945443   \n",
      "30                                    Sikkim      31979     396      31063   \n",
      "31                          State Unassigned          0       0          0   \n",
      "32                                Tamil Nadu    2702623   36116    2655015   \n",
      "33                                 Telangana     671463    3956     663498   \n",
      "34                                   Tripura      84468     813      83466   \n",
      "35                             Uttar Pradesh    1710158   22900    1687151   \n",
      "36                               Uttarakhand     343896    7400     330195   \n",
      "37                               West Bengal    1592908   19141    1565471   \n",
      "\n",
      "    Active  \n",
      "0   152606  \n",
      "1        4  \n",
      "2     4355  \n",
      "3      101  \n",
      "4     2327  \n",
      "5       46  \n",
      "6       36  \n",
      "7      316  \n",
      "8        2  \n",
      "9      348  \n",
      "10     352  \n",
      "11     205  \n",
      "12     135  \n",
      "13    1942  \n",
      "14     902  \n",
      "15     108  \n",
      "16    8644  \n",
      "17   79266  \n",
      "18      67  \n",
      "19       0  \n",
      "20     115  \n",
      "21   16658  \n",
      "22     708  \n",
      "23     431  \n",
      "24    6315  \n",
      "25     210  \n",
      "26    3924  \n",
      "27     430  \n",
      "28     251  \n",
      "29      32  \n",
      "30     195  \n",
      "31       0  \n",
      "32   11492  \n",
      "33    4009  \n",
      "34     126  \n",
      "35     107  \n",
      "36     151  \n",
      "37    8296  \n"
     ]
    }
   ],
   "source": [
    "# Filter necessary columns\n",
    "df = df[[\"State\", \"Confirmed\", \"Deaths\", \"Recovered\", \"Active\"]]\n",
    "\n",
    "# Print the data\n",
    "print(df)"
   ]
  }
 ],
 "metadata": {
  "kernelspec": {
   "display_name": "venv",
   "language": "python",
   "name": "python3"
  },
  "language_info": {
   "codemirror_mode": {
    "name": "ipython",
    "version": 3
   },
   "file_extension": ".py",
   "mimetype": "text/x-python",
   "name": "python",
   "nbconvert_exporter": "python",
   "pygments_lexer": "ipython3",
   "version": "3.11.3"
  },
  "orig_nbformat": 4
 },
 "nbformat": 4,
 "nbformat_minor": 2
}
